{
 "cells": [
  {
   "cell_type": "code",
   "execution_count": 1,
   "id": "83d9133a",
   "metadata": {},
   "outputs": [],
   "source": [
    "#import packages for data preprocessing\n",
    "import numpy as np\n",
    "import pandas as pd\n",
    "from sklearn.model_selection import train_test_split\n",
    "from sklearn.feature_extraction.text import TfidfVectorizer\n",
    "\n",
    "\n",
    "#import packages for tokenization\n",
    "import nltk\n",
    "from nltk.corpus import stopwords\n",
    "from nltk.tokenize import word_tokenize\n",
    "from nltk.stem import PorterStemmer"
   ]
  },
  {
   "cell_type": "code",
   "execution_count": 4,
   "id": "d7ec01c8",
   "metadata": {},
   "outputs": [],
   "source": [
    "data = []\n",
    "\n",
    "# Open the file in read mode\n",
    "with open('books.txt', 'r',  encoding='utf-8') as file:\n",
    "    # Read the contents of the file\n",
    "    for line in file:\n",
    "        # Parse the line (by tab)\n",
    "        parsed_line = line.strip().split('\\t')\n",
    "        \n",
    "        # Add the parsed data to the list\n",
    "        data.append(parsed_line)\n",
    "\n",
    "# Create a DataFrame from the list\n",
    "df_raw = pd.DataFrame(data, columns=['label', 'text']) \n"
   ]
  },
  {
   "cell_type": "code",
   "execution_count": 5,
   "id": "d4fc3d2a",
   "metadata": {},
   "outputs": [],
   "source": [
    "df = df_raw.copy()"
   ]
  },
  {
   "cell_type": "code",
   "execution_count": 7,
   "id": "7fb05f33",
   "metadata": {},
   "outputs": [
    {
     "data": {
      "text/html": [
       "<div>\n",
       "<style scoped>\n",
       "    .dataframe tbody tr th:only-of-type {\n",
       "        vertical-align: middle;\n",
       "    }\n",
       "\n",
       "    .dataframe tbody tr th {\n",
       "        vertical-align: top;\n",
       "    }\n",
       "\n",
       "    .dataframe thead th {\n",
       "        text-align: right;\n",
       "    }\n",
       "</style>\n",
       "<table border=\"1\" class=\"dataframe\">\n",
       "  <thead>\n",
       "    <tr style=\"text-align: right;\">\n",
       "      <th></th>\n",
       "      <th>label</th>\n",
       "      <th>text</th>\n",
       "    </tr>\n",
       "  </thead>\n",
       "  <tbody>\n",
       "    <tr>\n",
       "      <th>0</th>\n",
       "      <td>Jane Austen</td>\n",
       "      <td>﻿PERSUASION</td>\n",
       "    </tr>\n",
       "    <tr>\n",
       "      <th>1</th>\n",
       "      <td>Jane Austen</td>\n",
       "      <td>by Jane Austen</td>\n",
       "    </tr>\n",
       "    <tr>\n",
       "      <th>2</th>\n",
       "      <td>Jane Austen</td>\n",
       "      <td>(1818)</td>\n",
       "    </tr>\n",
       "    <tr>\n",
       "      <th>3</th>\n",
       "      <td>Jane Austen</td>\n",
       "      <td>Chapter 1</td>\n",
       "    </tr>\n",
       "    <tr>\n",
       "      <th>4</th>\n",
       "      <td>Jane Austen</td>\n",
       "      <td>Sir Walter Elliot, of Kellynch Hall, in Somers...</td>\n",
       "    </tr>\n",
       "    <tr>\n",
       "      <th>5</th>\n",
       "      <td>Jane Austen</td>\n",
       "      <td>\"ELLIOT OF KELLYNCH HALL.</td>\n",
       "    </tr>\n",
       "    <tr>\n",
       "      <th>6</th>\n",
       "      <td>Jane Austen</td>\n",
       "      <td>\"Walter Elliot, born March 1, 1760, married, J...</td>\n",
       "    </tr>\n",
       "    <tr>\n",
       "      <th>7</th>\n",
       "      <td>Jane Austen</td>\n",
       "      <td>Precisely such had the paragraph originally st...</td>\n",
       "    </tr>\n",
       "    <tr>\n",
       "      <th>8</th>\n",
       "      <td>Jane Austen</td>\n",
       "      <td>Then followed the history and rise of the anci...</td>\n",
       "    </tr>\n",
       "    <tr>\n",
       "      <th>9</th>\n",
       "      <td>Jane Austen</td>\n",
       "      <td>\"Heir presumptive, William Walter Elliot, Esq....</td>\n",
       "    </tr>\n",
       "    <tr>\n",
       "      <th>10</th>\n",
       "      <td>Jane Austen</td>\n",
       "      <td>Vanity was the beginning and the end of Sir Wa...</td>\n",
       "    </tr>\n",
       "    <tr>\n",
       "      <th>11</th>\n",
       "      <td>Jane Austen</td>\n",
       "      <td>His good looks and his rank had one fair claim...</td>\n",
       "    </tr>\n",
       "    <tr>\n",
       "      <th>12</th>\n",
       "      <td>Jane Austen</td>\n",
       "      <td>This friend, and Sir Walter, did not marry, wh...</td>\n",
       "    </tr>\n",
       "    <tr>\n",
       "      <th>13</th>\n",
       "      <td>Jane Austen</td>\n",
       "      <td>That Lady Russell, of steady age and character...</td>\n",
       "    </tr>\n",
       "    <tr>\n",
       "      <th>14</th>\n",
       "      <td>Jane Austen</td>\n",
       "      <td>To Lady Russell, indeed, she was a most dear a...</td>\n",
       "    </tr>\n",
       "    <tr>\n",
       "      <th>15</th>\n",
       "      <td>Jane Austen</td>\n",
       "      <td>A few years before, Anne Elliot had been a ver...</td>\n",
       "    </tr>\n",
       "    <tr>\n",
       "      <th>16</th>\n",
       "      <td>Jane Austen</td>\n",
       "      <td>It sometimes happens that a woman is handsomer...</td>\n",
       "    </tr>\n",
       "    <tr>\n",
       "      <th>17</th>\n",
       "      <td>Jane Austen</td>\n",
       "      <td>Elizabeth did not quite equal her father in pe...</td>\n",
       "    </tr>\n",
       "    <tr>\n",
       "      <th>18</th>\n",
       "      <td>Jane Austen</td>\n",
       "      <td>She had had a disappointment, moreover, which ...</td>\n",
       "    </tr>\n",
       "    <tr>\n",
       "      <th>19</th>\n",
       "      <td>Jane Austen</td>\n",
       "      <td>She had, while a very young girl, as soon as s...</td>\n",
       "    </tr>\n",
       "    <tr>\n",
       "      <th>20</th>\n",
       "      <td>Jane Austen</td>\n",
       "      <td>He was at that time a very young man, just eng...</td>\n",
       "    </tr>\n",
       "    <tr>\n",
       "      <th>21</th>\n",
       "      <td>Jane Austen</td>\n",
       "      <td>Sir Walter has resented it.  As the head of th...</td>\n",
       "    </tr>\n",
       "    <tr>\n",
       "      <th>22</th>\n",
       "      <td>Jane Austen</td>\n",
       "      <td>This very awkward history of Mr Elliot was sti...</td>\n",
       "    </tr>\n",
       "    <tr>\n",
       "      <th>23</th>\n",
       "      <td>Jane Austen</td>\n",
       "      <td>Such were Elizabeth Elliot's sentiments and se...</td>\n",
       "    </tr>\n",
       "    <tr>\n",
       "      <th>24</th>\n",
       "      <td>Jane Austen</td>\n",
       "      <td>But now, another occupation and solicitude of ...</td>\n",
       "    </tr>\n",
       "    <tr>\n",
       "      <th>25</th>\n",
       "      <td>Jane Austen</td>\n",
       "      <td>There was only a small part of his estate that...</td>\n",
       "    </tr>\n",
       "    <tr>\n",
       "      <th>26</th>\n",
       "      <td>Jane Austen</td>\n",
       "      <td>Their two confidential friends, Mr Shepherd, w...</td>\n",
       "    </tr>\n",
       "    <tr>\n",
       "      <th>27</th>\n",
       "      <td>Jane Austen</td>\n",
       "      <td>Chapter 2</td>\n",
       "    </tr>\n",
       "    <tr>\n",
       "      <th>28</th>\n",
       "      <td>Jane Austen</td>\n",
       "      <td>Mr Shepherd, a civil, cautious lawyer, who, wh...</td>\n",
       "    </tr>\n",
       "    <tr>\n",
       "      <th>29</th>\n",
       "      <td>Jane Austen</td>\n",
       "      <td>Lady Russell was most anxiously zealous on the...</td>\n",
       "    </tr>\n",
       "  </tbody>\n",
       "</table>\n",
       "</div>"
      ],
      "text/plain": [
       "          label                                               text\n",
       "0   Jane Austen                                        ﻿PERSUASION\n",
       "1   Jane Austen                                     by Jane Austen\n",
       "2   Jane Austen                                             (1818)\n",
       "3   Jane Austen                                          Chapter 1\n",
       "4   Jane Austen  Sir Walter Elliot, of Kellynch Hall, in Somers...\n",
       "5   Jane Austen                          \"ELLIOT OF KELLYNCH HALL.\n",
       "6   Jane Austen  \"Walter Elliot, born March 1, 1760, married, J...\n",
       "7   Jane Austen  Precisely such had the paragraph originally st...\n",
       "8   Jane Austen  Then followed the history and rise of the anci...\n",
       "9   Jane Austen  \"Heir presumptive, William Walter Elliot, Esq....\n",
       "10  Jane Austen  Vanity was the beginning and the end of Sir Wa...\n",
       "11  Jane Austen  His good looks and his rank had one fair claim...\n",
       "12  Jane Austen  This friend, and Sir Walter, did not marry, wh...\n",
       "13  Jane Austen  That Lady Russell, of steady age and character...\n",
       "14  Jane Austen  To Lady Russell, indeed, she was a most dear a...\n",
       "15  Jane Austen  A few years before, Anne Elliot had been a ver...\n",
       "16  Jane Austen  It sometimes happens that a woman is handsomer...\n",
       "17  Jane Austen  Elizabeth did not quite equal her father in pe...\n",
       "18  Jane Austen  She had had a disappointment, moreover, which ...\n",
       "19  Jane Austen  She had, while a very young girl, as soon as s...\n",
       "20  Jane Austen  He was at that time a very young man, just eng...\n",
       "21  Jane Austen  Sir Walter has resented it.  As the head of th...\n",
       "22  Jane Austen  This very awkward history of Mr Elliot was sti...\n",
       "23  Jane Austen  Such were Elizabeth Elliot's sentiments and se...\n",
       "24  Jane Austen  But now, another occupation and solicitude of ...\n",
       "25  Jane Austen  There was only a small part of his estate that...\n",
       "26  Jane Austen  Their two confidential friends, Mr Shepherd, w...\n",
       "27  Jane Austen                                          Chapter 2\n",
       "28  Jane Austen  Mr Shepherd, a civil, cautious lawyer, who, wh...\n",
       "29  Jane Austen  Lady Russell was most anxiously zealous on the..."
      ]
     },
     "execution_count": 7,
     "metadata": {},
     "output_type": "execute_result"
    }
   ],
   "source": [
    "df.head(30)"
   ]
  },
  {
   "cell_type": "code",
   "execution_count": 8,
   "id": "d9efcc84",
   "metadata": {},
   "outputs": [
    {
     "data": {
      "text/plain": [
       "array(['Jane Austen', 'Arthur Conan Doyle', 'Fyodor Dostoyevsky'],\n",
       "      dtype=object)"
      ]
     },
     "execution_count": 8,
     "metadata": {},
     "output_type": "execute_result"
    }
   ],
   "source": [
    "unique_values = df_raw['label'].unique()\n",
    "unique_values"
   ]
  },
  {
   "cell_type": "code",
   "execution_count": 9,
   "id": "415b8f4b",
   "metadata": {},
   "outputs": [],
   "source": [
    "# Remove punctuation and numbers\n",
    "df['text'] = df['text'].str.replace(r\"[^a-zA-Z' ]\", '', regex=True)\n",
    "\n",
    "# Convert text to lower case\n",
    "df['text'] = df['text'].str.lower()"
   ]
  },
  {
   "cell_type": "code",
   "execution_count": 10,
   "id": "7663e7d3",
   "metadata": {},
   "outputs": [
    {
     "name": "stderr",
     "output_type": "stream",
     "text": [
      "[nltk_data] Downloading package punkt to\n",
      "[nltk_data]     C:\\Users\\scoop\\AppData\\Roaming\\nltk_data...\n",
      "[nltk_data]   Package punkt is already up-to-date!\n",
      "[nltk_data] Downloading package stopwords to\n",
      "[nltk_data]     C:\\Users\\scoop\\AppData\\Roaming\\nltk_data...\n",
      "[nltk_data]   Package stopwords is already up-to-date!\n"
     ]
    },
    {
     "data": {
      "text/plain": [
       "True"
      ]
     },
     "execution_count": 10,
     "metadata": {},
     "output_type": "execute_result"
    }
   ],
   "source": [
    "# Download necessary NLTK data\n",
    "nltk.download('punkt')\n",
    "nltk.download('stopwords')"
   ]
  },
  {
   "cell_type": "code",
   "execution_count": 11,
   "id": "b7aca3d9",
   "metadata": {},
   "outputs": [],
   "source": [
    "# Tokenization function\n",
    "def tokenize_text(text):\n",
    "    tokens = word_tokenize(text)\n",
    "    stemmer = PorterStemmer()\n",
    "    stemmed_tokens = [stemmer.stem(token) for token in tokens]\n",
    "    stop_words = set(stopwords.words('english'))\n",
    "    filtered_tokens = [word for word in stemmed_tokens if word not in stop_words]\n",
    "    return filtered_tokens"
   ]
  },
  {
   "cell_type": "code",
   "execution_count": 19,
   "id": "bd6e6cb7",
   "metadata": {},
   "outputs": [
    {
     "name": "stdout",
     "output_type": "stream",
     "text": [
      "                                                    text  \\\n",
      "0                                             persuasion   \n",
      "1                                         by jane austen   \n",
      "3                                               chapter    \n",
      "4      sir walter elliot of kellynch hall in somerset...   \n",
      "5                                elliot of kellynch hall   \n",
      "...                                                  ...   \n",
      "19531  certainly we shall all rise again certainly we...   \n",
      "19532        ah how splendid it will be broke from kolya   \n",
      "19533  well now we will finish talking and go to his ...   \n",
      "19534  and always so all our lives hand in hand hurra...   \n",
      "19535                                            the end   \n",
      "\n",
      "       label_Arthur Conan Doyle  label_Fyodor Dostoyevsky  label_Jane Austen  \n",
      "0                             0                         0                  1  \n",
      "1                             0                         0                  1  \n",
      "3                             0                         0                  1  \n",
      "4                             0                         0                  1  \n",
      "5                             0                         0                  1  \n",
      "...                         ...                       ...                ...  \n",
      "19531                         0                         1                  0  \n",
      "19532                         0                         1                  0  \n",
      "19533                         0                         1                  0  \n",
      "19534                         0                         1                  0  \n",
      "19535                         0                         1                  0  \n",
      "\n",
      "[19510 rows x 4 columns]\n"
     ]
    }
   ],
   "source": [
    "df = pd.get_dummies(df, columns = ['label']) \n",
    "print(df)"
   ]
  },
  {
   "cell_type": "code",
   "execution_count": 20,
   "id": "b48a5009",
   "metadata": {},
   "outputs": [
    {
     "data": {
      "text/html": [
       "<div>\n",
       "<style scoped>\n",
       "    .dataframe tbody tr th:only-of-type {\n",
       "        vertical-align: middle;\n",
       "    }\n",
       "\n",
       "    .dataframe tbody tr th {\n",
       "        vertical-align: top;\n",
       "    }\n",
       "\n",
       "    .dataframe thead th {\n",
       "        text-align: right;\n",
       "    }\n",
       "</style>\n",
       "<table border=\"1\" class=\"dataframe\">\n",
       "  <thead>\n",
       "    <tr style=\"text-align: right;\">\n",
       "      <th></th>\n",
       "      <th>text</th>\n",
       "      <th>label_Arthur Conan Doyle</th>\n",
       "      <th>label_Fyodor Dostoyevsky</th>\n",
       "      <th>label_Jane Austen</th>\n",
       "    </tr>\n",
       "  </thead>\n",
       "  <tbody>\n",
       "    <tr>\n",
       "      <th>0</th>\n",
       "      <td>persuasion</td>\n",
       "      <td>0</td>\n",
       "      <td>0</td>\n",
       "      <td>1</td>\n",
       "    </tr>\n",
       "    <tr>\n",
       "      <th>1</th>\n",
       "      <td>by jane austen</td>\n",
       "      <td>0</td>\n",
       "      <td>0</td>\n",
       "      <td>1</td>\n",
       "    </tr>\n",
       "    <tr>\n",
       "      <th>3</th>\n",
       "      <td>chapter</td>\n",
       "      <td>0</td>\n",
       "      <td>0</td>\n",
       "      <td>1</td>\n",
       "    </tr>\n",
       "    <tr>\n",
       "      <th>4</th>\n",
       "      <td>sir walter elliot of kellynch hall in somerset...</td>\n",
       "      <td>0</td>\n",
       "      <td>0</td>\n",
       "      <td>1</td>\n",
       "    </tr>\n",
       "    <tr>\n",
       "      <th>5</th>\n",
       "      <td>elliot of kellynch hall</td>\n",
       "      <td>0</td>\n",
       "      <td>0</td>\n",
       "      <td>1</td>\n",
       "    </tr>\n",
       "    <tr>\n",
       "      <th>6</th>\n",
       "      <td>walter elliot born march   married july   eliz...</td>\n",
       "      <td>0</td>\n",
       "      <td>0</td>\n",
       "      <td>1</td>\n",
       "    </tr>\n",
       "    <tr>\n",
       "      <th>7</th>\n",
       "      <td>precisely such had the paragraph originally st...</td>\n",
       "      <td>0</td>\n",
       "      <td>0</td>\n",
       "      <td>1</td>\n",
       "    </tr>\n",
       "    <tr>\n",
       "      <th>8</th>\n",
       "      <td>then followed the history and rise of the anci...</td>\n",
       "      <td>0</td>\n",
       "      <td>0</td>\n",
       "      <td>1</td>\n",
       "    </tr>\n",
       "    <tr>\n",
       "      <th>9</th>\n",
       "      <td>heir presumptive william walter elliot esq gre...</td>\n",
       "      <td>0</td>\n",
       "      <td>0</td>\n",
       "      <td>1</td>\n",
       "    </tr>\n",
       "    <tr>\n",
       "      <th>10</th>\n",
       "      <td>vanity was the beginning and the end of sir wa...</td>\n",
       "      <td>0</td>\n",
       "      <td>0</td>\n",
       "      <td>1</td>\n",
       "    </tr>\n",
       "  </tbody>\n",
       "</table>\n",
       "</div>"
      ],
      "text/plain": [
       "                                                 text  \\\n",
       "0                                          persuasion   \n",
       "1                                      by jane austen   \n",
       "3                                            chapter    \n",
       "4   sir walter elliot of kellynch hall in somerset...   \n",
       "5                             elliot of kellynch hall   \n",
       "6   walter elliot born march   married july   eliz...   \n",
       "7   precisely such had the paragraph originally st...   \n",
       "8   then followed the history and rise of the anci...   \n",
       "9   heir presumptive william walter elliot esq gre...   \n",
       "10  vanity was the beginning and the end of sir wa...   \n",
       "\n",
       "    label_Arthur Conan Doyle  label_Fyodor Dostoyevsky  label_Jane Austen  \n",
       "0                          0                         0                  1  \n",
       "1                          0                         0                  1  \n",
       "3                          0                         0                  1  \n",
       "4                          0                         0                  1  \n",
       "5                          0                         0                  1  \n",
       "6                          0                         0                  1  \n",
       "7                          0                         0                  1  \n",
       "8                          0                         0                  1  \n",
       "9                          0                         0                  1  \n",
       "10                         0                         0                  1  "
      ]
     },
     "execution_count": 20,
     "metadata": {},
     "output_type": "execute_result"
    }
   ],
   "source": [
    "df.head(10)"
   ]
  },
  {
   "cell_type": "code",
   "execution_count": 21,
   "id": "7d5b7790",
   "metadata": {},
   "outputs": [
    {
     "name": "stdout",
     "output_type": "stream",
     "text": [
      "Empty DataFrame\n",
      "Columns: [text, label_Arthur Conan Doyle, label_Fyodor Dostoyevsky, label_Jane Austen]\n",
      "Index: []\n"
     ]
    }
   ],
   "source": [
    "# Check if any row has a null value\n",
    "rows_with_null = df.isnull().any(axis=1)\n",
    "\n",
    "# Display rows with null values\n",
    "print(df[rows_with_null])"
   ]
  },
  {
   "cell_type": "code",
   "execution_count": 17,
   "id": "11ebb934",
   "metadata": {},
   "outputs": [
    {
     "data": {
      "text/plain": [
       "(19536, 2)"
      ]
     },
     "execution_count": 17,
     "metadata": {},
     "output_type": "execute_result"
    }
   ],
   "source": [
    "df.shape"
   ]
  },
  {
   "cell_type": "code",
   "execution_count": 22,
   "id": "3c989290",
   "metadata": {},
   "outputs": [
    {
     "name": "stdout",
     "output_type": "stream",
     "text": [
      "Empty DataFrame\n",
      "Columns: [text, label_Arthur Conan Doyle, label_Fyodor Dostoyevsky, label_Jane Austen]\n",
      "Index: []\n"
     ]
    }
   ],
   "source": [
    "# Check if entries in the column are either empty strings, null, or whitespace\n",
    "no_text = df['text'].apply(lambda x: pd.isna(x) or str(x).strip() == '')\n",
    "\n",
    "# Display rows where the column does not have text\n",
    "print(df[no_text])"
   ]
  },
  {
   "cell_type": "code",
   "execution_count": 18,
   "id": "31dc9e58",
   "metadata": {},
   "outputs": [
    {
     "data": {
      "text/plain": [
       "(19510, 2)"
      ]
     },
     "execution_count": 18,
     "metadata": {},
     "output_type": "execute_result"
    }
   ],
   "source": [
    "# Drop these rows from the DataFrame\n",
    "df= df.drop(df[no_text].index)\n"
   ]
  },
  {
   "cell_type": "code",
   "execution_count": 24,
   "id": "e2fe03a2",
   "metadata": {},
   "outputs": [
    {
     "data": {
      "text/html": [
       "<div>\n",
       "<style scoped>\n",
       "    .dataframe tbody tr th:only-of-type {\n",
       "        vertical-align: middle;\n",
       "    }\n",
       "\n",
       "    .dataframe tbody tr th {\n",
       "        vertical-align: top;\n",
       "    }\n",
       "\n",
       "    .dataframe thead th {\n",
       "        text-align: right;\n",
       "    }\n",
       "</style>\n",
       "<table border=\"1\" class=\"dataframe\">\n",
       "  <thead>\n",
       "    <tr style=\"text-align: right;\">\n",
       "      <th></th>\n",
       "      <th>text</th>\n",
       "      <th>label_Arthur Conan Doyle</th>\n",
       "      <th>label_Fyodor Dostoyevsky</th>\n",
       "      <th>label_Jane Austen</th>\n",
       "    </tr>\n",
       "  </thead>\n",
       "  <tbody>\n",
       "    <tr>\n",
       "      <th>0</th>\n",
       "      <td>persuasion</td>\n",
       "      <td>0</td>\n",
       "      <td>0</td>\n",
       "      <td>1</td>\n",
       "    </tr>\n",
       "    <tr>\n",
       "      <th>1</th>\n",
       "      <td>by jane austen</td>\n",
       "      <td>0</td>\n",
       "      <td>0</td>\n",
       "      <td>1</td>\n",
       "    </tr>\n",
       "    <tr>\n",
       "      <th>3</th>\n",
       "      <td>chapter</td>\n",
       "      <td>0</td>\n",
       "      <td>0</td>\n",
       "      <td>1</td>\n",
       "    </tr>\n",
       "    <tr>\n",
       "      <th>4</th>\n",
       "      <td>sir walter elliot of kellynch hall in somerset...</td>\n",
       "      <td>0</td>\n",
       "      <td>0</td>\n",
       "      <td>1</td>\n",
       "    </tr>\n",
       "    <tr>\n",
       "      <th>5</th>\n",
       "      <td>elliot of kellynch hall</td>\n",
       "      <td>0</td>\n",
       "      <td>0</td>\n",
       "      <td>1</td>\n",
       "    </tr>\n",
       "  </tbody>\n",
       "</table>\n",
       "</div>"
      ],
      "text/plain": [
       "                                                text  \\\n",
       "0                                         persuasion   \n",
       "1                                     by jane austen   \n",
       "3                                           chapter    \n",
       "4  sir walter elliot of kellynch hall in somerset...   \n",
       "5                            elliot of kellynch hall   \n",
       "\n",
       "   label_Arthur Conan Doyle  label_Fyodor Dostoyevsky  label_Jane Austen  \n",
       "0                         0                         0                  1  \n",
       "1                         0                         0                  1  \n",
       "3                         0                         0                  1  \n",
       "4                         0                         0                  1  \n",
       "5                         0                         0                  1  "
      ]
     },
     "execution_count": 24,
     "metadata": {},
     "output_type": "execute_result"
    }
   ],
   "source": [
    "df.head()"
   ]
  },
  {
   "cell_type": "code",
   "execution_count": 31,
   "id": "ef7ec67e",
   "metadata": {},
   "outputs": [
    {
     "data": {
      "text/plain": [
       "0                                               persuasion\n",
       "1                                           by jane austen\n",
       "3                                                 chapter \n",
       "4        sir walter elliot of kellynch hall in somerset...\n",
       "5                                  elliot of kellynch hall\n",
       "                               ...                        \n",
       "19531    certainly we shall all rise again certainly we...\n",
       "19532          ah how splendid it will be broke from kolya\n",
       "19533    well now we will finish talking and go to his ...\n",
       "19534    and always so all our lives hand in hand hurra...\n",
       "19535                                              the end\n",
       "Name: text, Length: 19510, dtype: object"
      ]
     },
     "execution_count": 31,
     "metadata": {},
     "output_type": "execute_result"
    }
   ],
   "source": [
    "y = df[['label_Arthur Conan Doyle', 'label_Fyodor Dostoyevsky', 'label_Jane Austen']]\n",
    "X = df['text']\n",
    "X"
   ]
  },
  {
   "cell_type": "code",
   "execution_count": 32,
   "id": "2b85db66",
   "metadata": {},
   "outputs": [
    {
     "name": "stderr",
     "output_type": "stream",
     "text": [
      "C:\\Users\\scoop\\anaconda3\\lib\\site-packages\\sklearn\\feature_extraction\\text.py:528: UserWarning: The parameter 'token_pattern' will not be used since 'tokenizer' is not None'\n",
      "  warnings.warn(\n"
     ]
    }
   ],
   "source": [
    "# Create the TfidfVectorizer\n",
    "vectorizer = TfidfVectorizer(tokenizer=tokenize_text, preprocessor=lambda x: x, lowercase=False)\n",
    "\n",
    "# Fit the vectorizer to the training data\n",
    "X_tfidf = vectorizer.fit_transform(X)"
   ]
  },
  {
   "cell_type": "code",
   "execution_count": 33,
   "id": "50b93b34",
   "metadata": {},
   "outputs": [
    {
     "data": {
      "text/plain": [
       "(19510, 19279)"
      ]
     },
     "execution_count": 33,
     "metadata": {},
     "output_type": "execute_result"
    }
   ],
   "source": [
    "X_tfidf.shape"
   ]
  },
  {
   "cell_type": "code",
   "execution_count": 34,
   "id": "b65e0ad2",
   "metadata": {},
   "outputs": [],
   "source": [
    "# Splitting the dataset into the Training set and Test set\n",
    "X_temp, X_test, y_temp, y_test = train_test_split(X_tfidf, y, test_size = 0.2, random_state = 42)\n",
    "\n",
    "# Splitting the Training set further into Training and Validation sets\n",
    "X_train, X_val, y_train, y_val = train_test_split(X_temp, y_temp, test_size = 0.2, random_state = 42) "
   ]
  },
  {
   "cell_type": "code",
   "execution_count": 35,
   "id": "7253b30f",
   "metadata": {},
   "outputs": [],
   "source": [
    "np.random.seed(42)\n",
    "\n",
    "# Assuming X_tfidf is your feature matrix\n",
    "d = X_tfidf.shape[1]  # Number of features\n",
    "n_classes = 3  # Number of classes (adjust as needed)"
   ]
  },
  {
   "cell_type": "code",
   "execution_count": 36,
   "id": "8b207ca7",
   "metadata": {},
   "outputs": [],
   "source": [
    "# Initialize weights and bias\n",
    "w = np.random.randn(d, n_classes)  \n",
    "b = np.random.randn(n_classes)"
   ]
  },
  {
   "cell_type": "code",
   "execution_count": 37,
   "id": "22fa1634",
   "metadata": {},
   "outputs": [],
   "source": [
    "def softmax(z):\n",
    "    exp_z = np.exp(z - np.max(z, axis=1, keepdims=True))\n",
    "    return exp_z / np.sum(exp_z, axis=1, keepdims=True)\n"
   ]
  },
  {
   "cell_type": "code",
   "execution_count": 38,
   "id": "7b473031",
   "metadata": {},
   "outputs": [],
   "source": [
    "def compute_loss(y, y_hat):\n",
    "    # Assuming y is one-hot encoded\n",
    "    return -np.mean(np.sum(y * np.log(y_hat + 1e-15), axis=1))"
   ]
  },
  {
   "cell_type": "code",
   "execution_count": 45,
   "id": "5786a2c5",
   "metadata": {},
   "outputs": [],
   "source": [
    "def compute_gradients(X, y, y_hat, w, lambda_reg):\n",
    "    n = X.shape[0]\n",
    "    dw = X.T.dot(y_hat - y) / n + lambda_reg * w / n  # Add the regularization term\n",
    "    db = np.mean(y_hat - y, axis=0)\n",
    "    return dw, db"
   ]
  },
  {
   "cell_type": "code",
   "execution_count": 40,
   "id": "8349ea1b",
   "metadata": {},
   "outputs": [],
   "source": [
    "def predict(X, w, b):\n",
    "    z = X.dot(w) + b\n",
    "    return softmax(z)\n"
   ]
  },
  {
   "cell_type": "code",
   "execution_count": 53,
   "id": "74d7ce6f",
   "metadata": {},
   "outputs": [
    {
     "ename": "KeyboardInterrupt",
     "evalue": "",
     "output_type": "error",
     "traceback": [
      "\u001b[1;31m---------------------------------------------------------------------------\u001b[0m",
      "\u001b[1;31mKeyboardInterrupt\u001b[0m                         Traceback (most recent call last)",
      "Cell \u001b[1;32mIn[53], line 40\u001b[0m\n\u001b[0;32m     37\u001b[0m         y_val_np \u001b[38;5;241m=\u001b[39m y_val\u001b[38;5;241m.\u001b[39mto_numpy() \u001b[38;5;28;01mif\u001b[39;00m \u001b[38;5;28misinstance\u001b[39m(y_val, (pd\u001b[38;5;241m.\u001b[39mDataFrame, pd\u001b[38;5;241m.\u001b[39mSeries)) \u001b[38;5;28;01melse\u001b[39;00m y_val\n\u001b[0;32m     39\u001b[0m         \u001b[38;5;66;03m# Perform the matrix multiplication and addition\u001b[39;00m\n\u001b[1;32m---> 40\u001b[0m         z \u001b[38;5;241m=\u001b[39m \u001b[43mnp\u001b[49m\u001b[38;5;241;43m.\u001b[39;49m\u001b[43mdot\u001b[49m\u001b[43m(\u001b[49m\u001b[43mX_val_np\u001b[49m\u001b[43m,\u001b[49m\u001b[43m \u001b[49m\u001b[43mw\u001b[49m\u001b[43m)\u001b[49m \u001b[38;5;241m+\u001b[39m b\n\u001b[0;32m     41\u001b[0m         val_preds \u001b[38;5;241m=\u001b[39m softmax(z)\n\u001b[0;32m     44\u001b[0m \u001b[38;5;66;03m#         val_preds = softmax(X_val.dot(w) + b)\u001b[39;00m\n",
      "File \u001b[1;32m<__array_function__ internals>:180\u001b[0m, in \u001b[0;36mdot\u001b[1;34m(*args, **kwargs)\u001b[0m\n",
      "File \u001b[1;32m~\\anaconda3\\lib\\site-packages\\scipy\\sparse\\_base.py:590\u001b[0m, in \u001b[0;36mspmatrix.__mul__\u001b[1;34m(self, other)\u001b[0m\n\u001b[0;32m    589\u001b[0m \u001b[38;5;28;01mdef\u001b[39;00m \u001b[38;5;21m__mul__\u001b[39m(\u001b[38;5;28mself\u001b[39m, other):\n\u001b[1;32m--> 590\u001b[0m     \u001b[38;5;28;01mreturn\u001b[39;00m \u001b[38;5;28;43mself\u001b[39;49m\u001b[38;5;241;43m.\u001b[39;49m\u001b[43m_mul_dispatch\u001b[49m\u001b[43m(\u001b[49m\u001b[43mother\u001b[49m\u001b[43m)\u001b[49m\n",
      "File \u001b[1;32m~\\anaconda3\\lib\\site-packages\\scipy\\sparse\\_base.py:536\u001b[0m, in \u001b[0;36mspmatrix._mul_dispatch\u001b[1;34m(self, other)\u001b[0m\n\u001b[0;32m    532\u001b[0m         \u001b[38;5;28;01mreturn\u001b[39;00m \u001b[38;5;28mself\u001b[39m\u001b[38;5;241m.\u001b[39m_mul_multivector(other)\n\u001b[0;32m    534\u001b[0m \u001b[38;5;28;01mif\u001b[39;00m isscalarlike(other):\n\u001b[0;32m    535\u001b[0m     \u001b[38;5;66;03m# scalar value\u001b[39;00m\n\u001b[1;32m--> 536\u001b[0m     \u001b[38;5;28;01mreturn\u001b[39;00m \u001b[38;5;28;43mself\u001b[39;49m\u001b[38;5;241;43m.\u001b[39;49m\u001b[43m_mul_scalar\u001b[49m\u001b[43m(\u001b[49m\u001b[43mother\u001b[49m\u001b[43m)\u001b[49m\n\u001b[0;32m    538\u001b[0m \u001b[38;5;28;01mif\u001b[39;00m issparse(other):\n\u001b[0;32m    539\u001b[0m     \u001b[38;5;28;01mif\u001b[39;00m \u001b[38;5;28mself\u001b[39m\u001b[38;5;241m.\u001b[39mshape[\u001b[38;5;241m1\u001b[39m] \u001b[38;5;241m!=\u001b[39m other\u001b[38;5;241m.\u001b[39mshape[\u001b[38;5;241m0\u001b[39m]:\n",
      "File \u001b[1;32m~\\anaconda3\\lib\\site-packages\\scipy\\sparse\\_data.py:124\u001b[0m, in \u001b[0;36m_data_matrix._mul_scalar\u001b[1;34m(self, other)\u001b[0m\n\u001b[0;32m    123\u001b[0m \u001b[38;5;28;01mdef\u001b[39;00m \u001b[38;5;21m_mul_scalar\u001b[39m(\u001b[38;5;28mself\u001b[39m, other):\n\u001b[1;32m--> 124\u001b[0m     \u001b[38;5;28;01mreturn\u001b[39;00m \u001b[38;5;28;43mself\u001b[39;49m\u001b[38;5;241;43m.\u001b[39;49m\u001b[43m_with_data\u001b[49m\u001b[43m(\u001b[49m\u001b[38;5;28;43mself\u001b[39;49m\u001b[38;5;241;43m.\u001b[39;49m\u001b[43mdata\u001b[49m\u001b[43m \u001b[49m\u001b[38;5;241;43m*\u001b[39;49m\u001b[43m \u001b[49m\u001b[43mother\u001b[49m\u001b[43m)\u001b[49m\n",
      "File \u001b[1;32m~\\anaconda3\\lib\\site-packages\\scipy\\sparse\\_compressed.py:1224\u001b[0m, in \u001b[0;36m_cs_matrix._with_data\u001b[1;34m(self, data, copy)\u001b[0m\n\u001b[0;32m   1217\u001b[0m resize\u001b[38;5;241m.\u001b[39m\u001b[38;5;18m__doc__\u001b[39m \u001b[38;5;241m=\u001b[39m spmatrix\u001b[38;5;241m.\u001b[39mresize\u001b[38;5;241m.\u001b[39m\u001b[38;5;18m__doc__\u001b[39m\n\u001b[0;32m   1219\u001b[0m \u001b[38;5;66;03m###################\u001b[39;00m\n\u001b[0;32m   1220\u001b[0m \u001b[38;5;66;03m# utility methods #\u001b[39;00m\n\u001b[0;32m   1221\u001b[0m \u001b[38;5;66;03m###################\u001b[39;00m\n\u001b[0;32m   1222\u001b[0m \n\u001b[0;32m   1223\u001b[0m \u001b[38;5;66;03m# needed by _data_matrix\u001b[39;00m\n\u001b[1;32m-> 1224\u001b[0m \u001b[38;5;28;01mdef\u001b[39;00m \u001b[38;5;21m_with_data\u001b[39m(\u001b[38;5;28mself\u001b[39m, data, copy\u001b[38;5;241m=\u001b[39m\u001b[38;5;28;01mTrue\u001b[39;00m):\n\u001b[0;32m   1225\u001b[0m     \u001b[38;5;124;03m\"\"\"Returns a matrix with the same sparsity structure as self,\u001b[39;00m\n\u001b[0;32m   1226\u001b[0m \u001b[38;5;124;03m    but with different data.  By default the structure arrays\u001b[39;00m\n\u001b[0;32m   1227\u001b[0m \u001b[38;5;124;03m    (i.e. .indptr and .indices) are copied.\u001b[39;00m\n\u001b[0;32m   1228\u001b[0m \u001b[38;5;124;03m    \"\"\"\u001b[39;00m\n\u001b[0;32m   1229\u001b[0m     \u001b[38;5;28;01mif\u001b[39;00m copy:\n",
      "\u001b[1;31mKeyboardInterrupt\u001b[0m: "
     ]
    }
   ],
   "source": [
    "eta = 0.1  # Learning rate\n",
    "n_epochs = 100\n",
    "m = X_train.shape[0]  # Number of instances\n",
    "batch_size = 12  # Mini-batch size\n",
    "lambda_reg = 1   # Regularization parameter\n",
    "\n",
    "# Randomly initialize model parameters\n",
    "np.random.seed(42)\n",
    "w = np.random.randn(d, n_classes)  # where n_classes is the number of classes\n",
    "b = np.random.randn(n_classes)\n",
    "\n",
    "\n",
    "for epoch in range(n_epochs):\n",
    "    shuffled_indices = np.random.permutation(m)\n",
    "    X_train_shuffled = X_train[shuffled_indices]\n",
    "    y_train_shuffled = y_train.iloc[shuffled_indices]\n",
    "\n",
    "\n",
    "    for i in range(0, m, batch_size):\n",
    "        xi = X_train_shuffled[i:i+batch_size]\n",
    "        yi = y_train_shuffled[i:i+batch_size]\n",
    "\n",
    "        # Matrix multiplication (ensure xi and w are compatible)\n",
    "        # If w is dense and xi is sparse, you may need to adjust the operation\n",
    "        preds = softmax(xi.dot(w) + b)  # Use dot for sparse-dense multiplication\n",
    "  \n",
    "\n",
    "        dw, db = compute_gradients(xi, yi, preds, w, lambda_reg)\n",
    "\n",
    "        # Update weights and bias\n",
    "        w -= eta * dw.reshape(w.shape)\n",
    "        b -= eta * db\n",
    "        \n",
    "        \n",
    "        # Convert X_val and y_val to numpy arrays if they are pandas objects\n",
    "        X_val_np = X_val.to_numpy() if isinstance(X_val, (pd.DataFrame, pd.Series)) else X_val\n",
    "        y_val_np = y_val.to_numpy() if isinstance(y_val, (pd.DataFrame, pd.Series)) else y_val\n",
    "        \n",
    "        # Convert X_val and y_val to numpy arrays if they are pandas objects\n",
    "        X_test_np = X_test.to_numpy() if isinstance(X_test, (pd.DataFrame, pd.Series)) else X_test\n",
    "        y_test_np = y_test.to_numpy() if isinstance(y_test, (pd.DataFrame, pd.Series)) else y_test\n",
    "\n",
    "        # Perform the matrix multiplication and addition\n",
    "        z = np.dot(X_val_np, w) + b\n",
    "        val_preds = softmax(z)\n",
    "\n",
    "        # val_preds = softmax(X_val.dot(w) + b)\n",
    "        val_preds_ = np.argmax(val_preds, axis=1)  \n",
    "\n",
    "        # Compute loss on validation set\n",
    "        val_loss = compute_loss(y_val, softmax(X_val.dot(w) + b))\n",
    "        \n",
    "        # Perform the matrix multiplication and addition\n",
    "        z1 = np.dot(X_test_np, w) + b\n",
    "        test_preds = softmax(z1)\n",
    "\n",
    "        # test prediction\n",
    "        test_preds_ = np.argmax(test_preds, axis=1)  \n",
    "\n",
    "        # Compute loss on validation set\n",
    "        test_loss = compute_loss(y_test, softmax(X_test.dot(w) + b))\n",
    "        \n",
    "    if epoch % 20 == 0:\n",
    "        print(f\"Epoch {epoch}, Validation Loss: {val_loss}\")\n",
    "\n",
    "    if epoch % 20 == 0:\n",
    "        print(f\"Epoch {epoch}, Test Loss: {test_loss}\")"
   ]
  },
  {
   "cell_type": "code",
   "execution_count": 48,
   "id": "ee17aef4",
   "metadata": {},
   "outputs": [
    {
     "data": {
      "text/plain": [
       "(3122, 19279)"
      ]
     },
     "execution_count": 48,
     "metadata": {},
     "output_type": "execute_result"
    }
   ],
   "source": [
    "X_val.shape"
   ]
  },
  {
   "cell_type": "code",
   "execution_count": 49,
   "id": "1cdb1a75",
   "metadata": {},
   "outputs": [
    {
     "data": {
      "text/plain": [
       "(19279, 3)"
      ]
     },
     "execution_count": 49,
     "metadata": {},
     "output_type": "execute_result"
    }
   ],
   "source": [
    "w.shape"
   ]
  },
  {
   "cell_type": "code",
   "execution_count": null,
   "id": "034a5890",
   "metadata": {},
   "outputs": [],
   "source": []
  }
 ],
 "metadata": {
  "kernelspec": {
   "display_name": "Python 3 (ipykernel)",
   "language": "python",
   "name": "python3"
  },
  "language_info": {
   "codemirror_mode": {
    "name": "ipython",
    "version": 3
   },
   "file_extension": ".py",
   "mimetype": "text/x-python",
   "name": "python",
   "nbconvert_exporter": "python",
   "pygments_lexer": "ipython3",
   "version": "3.10.9"
  }
 },
 "nbformat": 4,
 "nbformat_minor": 5
}
